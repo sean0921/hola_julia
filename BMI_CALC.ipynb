{
 "cells": [
  {
   "cell_type": "markdown",
   "metadata": {},
   "source": [
    "# BMI_CALC\n",
    "\n",
    "This is a bmi calc test\n",
    "just for test test test ...."
   ]
  },
  {
   "cell_type": "code",
   "execution_count": 8,
   "metadata": {},
   "outputs": [
    {
     "name": "stdout",
     "output_type": "stream",
     "text": [
      "請您輸入您ㄉ大名\n",
      "stdin> ㄔㄍㄋㄔ\n",
      "請輸入您的身高高(m)\n",
      "stdin> 1.56\n",
      "請輸入您的體重重(kg)\n",
      "stdin> 56\n",
      "ㄔㄍㄋㄔ大大，您的BMI是：23.011176857330703\n"
     ]
    }
   ],
   "source": [
    "println(\"請您輸入您ㄉ大名\")\n",
    "name = readline()\n",
    "\n",
    "println(\"請輸入您的身高高(m)\")\n",
    "height = readline()\n",
    "height = parse(Float64, height)\n",
    "\n",
    "println(\"請輸入您的體重重(kg)\")\n",
    "weight = parse(Float64, readline())\n",
    "\n",
    "BMI = weight / (height^2)\n",
    "\n",
    "println(name,\"大大，您的BMI是：\", BMI)"
   ]
  }
 ],
 "metadata": {
  "kernelspec": {
   "display_name": "Julia 1.1.0",
   "language": "julia",
   "name": "julia-1.1"
  },
  "language_info": {
   "file_extension": ".jl",
   "mimetype": "application/julia",
   "name": "julia",
   "version": "1.1.0"
  }
 },
 "nbformat": 4,
 "nbformat_minor": 2
}
